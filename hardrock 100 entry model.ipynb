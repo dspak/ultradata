{
 "cells": [
  {
   "cell_type": "markdown",
   "metadata": {},
   "source": [
    "## how long until I get into the Hardrock 100?\n",
    "\n",
    "The Hardrock 100 is a 100-mile footrace through the San Juan mountains of Colorado.  It is considered a \"post-graduate level\" event with 66000 feet elevation change and an average elevation of over 11000 ft!  It is one of my lifelong goals to run in this event.  \n",
    "\n",
    "Hardrock is a small event and maintains a lottery system to gain entry.  Runners must run a qualifier race in order to enter the lottery.  They allot 45 slots in the lottery each year to newcomers.  Based on the calculations of the Hardrock organizers, each newcomer gets 2^n tickets in the lottery, where n is the number of DNSs (did not start) from all previous years.  So, if you have tried and failed to get into the race for several years, then your chances of getting in go up dramatically.  \n",
    "\n",
    "I wanted to figure out how long it would take me to have a good chance of getting into HR100.  To do this, I utilized lottery data the organizers (Blake Wood) nicely release for the last three years.  Blake uses simulation to predict what the odds of newcomers with x number of tickets in the lottery.  Using this data, I decided to build a simple probabilistic model using PyMC of my entrance into the lottery process.  \n",
    "\n",
    "**TL;DR: It's going to take around 10 years.**  \n",
    "\n"
   ]
  },
  {
   "cell_type": "code",
   "execution_count": 1,
   "metadata": {
    "collapsed": false
   },
   "outputs": [],
   "source": [
    "import pandas as pd\n",
    "import matplotlib.pyplot as plt\n",
    "import pymc\n",
    "import numpy as np\n",
    "from scipy import stats\n",
    "\n",
    "%matplotlib inline"
   ]
  },
  {
   "cell_type": "markdown",
   "metadata": {},
   "source": [
    "I transferred the lottery odds data from the PDF reports from the last three years to a CSV for easy read to python."
   ]
  },
  {
   "cell_type": "code",
   "execution_count": 25,
   "metadata": {
    "collapsed": false
   },
   "outputs": [],
   "source": [
    "data = pd.read_csv('./hr100_odds.csv',header=0,index_col=0)"
   ]
  },
  {
   "cell_type": "code",
   "execution_count": 26,
   "metadata": {
    "collapsed": false
   },
   "outputs": [
    {
     "data": {
      "text/html": [
       "<div>\n",
       "<table border=\"1\" class=\"dataframe\">\n",
       "  <thead>\n",
       "    <tr style=\"text-align: right;\">\n",
       "      <th></th>\n",
       "      <th>2017</th>\n",
       "      <th>2018</th>\n",
       "      <th>2019</th>\n",
       "      <th>2017_chance</th>\n",
       "      <th>2018_chance</th>\n",
       "      <th>2019_chance</th>\n",
       "    </tr>\n",
       "    <tr>\n",
       "      <th>tix</th>\n",
       "      <th></th>\n",
       "      <th></th>\n",
       "      <th></th>\n",
       "      <th></th>\n",
       "      <th></th>\n",
       "      <th></th>\n",
       "    </tr>\n",
       "  </thead>\n",
       "  <tbody>\n",
       "    <tr>\n",
       "      <th>1</th>\n",
       "      <td>736</td>\n",
       "      <td>739</td>\n",
       "      <td>778</td>\n",
       "      <td>0.6</td>\n",
       "      <td>0.4</td>\n",
       "      <td>0.3</td>\n",
       "    </tr>\n",
       "    <tr>\n",
       "      <th>2</th>\n",
       "      <td>435</td>\n",
       "      <td>526</td>\n",
       "      <td>552</td>\n",
       "      <td>1.2</td>\n",
       "      <td>0.9</td>\n",
       "      <td>0.6</td>\n",
       "    </tr>\n",
       "    <tr>\n",
       "      <th>4</th>\n",
       "      <td>252</td>\n",
       "      <td>284</td>\n",
       "      <td>340</td>\n",
       "      <td>2.4</td>\n",
       "      <td>1.7</td>\n",
       "      <td>1.1</td>\n",
       "    </tr>\n",
       "    <tr>\n",
       "      <th>8</th>\n",
       "      <td>177</td>\n",
       "      <td>201</td>\n",
       "      <td>229</td>\n",
       "      <td>4.7</td>\n",
       "      <td>3.4</td>\n",
       "      <td>2.3</td>\n",
       "    </tr>\n",
       "    <tr>\n",
       "      <th>16</th>\n",
       "      <td>73</td>\n",
       "      <td>128</td>\n",
       "      <td>155</td>\n",
       "      <td>9.2</td>\n",
       "      <td>6.7</td>\n",
       "      <td>4.5</td>\n",
       "    </tr>\n",
       "    <tr>\n",
       "      <th>32</th>\n",
       "      <td>42</td>\n",
       "      <td>64</td>\n",
       "      <td>104</td>\n",
       "      <td>17.6</td>\n",
       "      <td>13.2</td>\n",
       "      <td>8.8</td>\n",
       "    </tr>\n",
       "    <tr>\n",
       "      <th>64</th>\n",
       "      <td>10</td>\n",
       "      <td>27</td>\n",
       "      <td>45</td>\n",
       "      <td>32.2</td>\n",
       "      <td>24.4</td>\n",
       "      <td>16.8</td>\n",
       "    </tr>\n",
       "    <tr>\n",
       "      <th>128</th>\n",
       "      <td>1</td>\n",
       "      <td>6</td>\n",
       "      <td>18</td>\n",
       "      <td>54.1</td>\n",
       "      <td>42.6</td>\n",
       "      <td>30.8</td>\n",
       "    </tr>\n",
       "    <tr>\n",
       "      <th>256</th>\n",
       "      <td>0</td>\n",
       "      <td>0</td>\n",
       "      <td>1</td>\n",
       "      <td>NaN</td>\n",
       "      <td>NaN</td>\n",
       "      <td>52.3</td>\n",
       "    </tr>\n",
       "    <tr>\n",
       "      <th>512</th>\n",
       "      <td>0</td>\n",
       "      <td>0</td>\n",
       "      <td>1</td>\n",
       "      <td>NaN</td>\n",
       "      <td>NaN</td>\n",
       "      <td>77.1</td>\n",
       "    </tr>\n",
       "  </tbody>\n",
       "</table>\n",
       "</div>"
      ],
      "text/plain": [
       "     2017  2018  2019  2017_chance  2018_chance  2019_chance\n",
       "tix                                                         \n",
       "1     736   739   778          0.6          0.4          0.3\n",
       "2     435   526   552          1.2          0.9          0.6\n",
       "4     252   284   340          2.4          1.7          1.1\n",
       "8     177   201   229          4.7          3.4          2.3\n",
       "16     73   128   155          9.2          6.7          4.5\n",
       "32     42    64   104         17.6         13.2          8.8\n",
       "64     10    27    45         32.2         24.4         16.8\n",
       "128     1     6    18         54.1         42.6         30.8\n",
       "256     0     0     1          NaN          NaN         52.3\n",
       "512     0     0     1          NaN          NaN         77.1"
      ]
     },
     "execution_count": 26,
     "metadata": {},
     "output_type": "execute_result"
    }
   ],
   "source": [
    "data"
   ]
  },
  {
   "cell_type": "code",
   "execution_count": 27,
   "metadata": {
    "collapsed": false
   },
   "outputs": [],
   "source": [
    "# calculate total number of tickets per lottery year\n",
    "total_tix = []\n",
    "for x in ['2017','2018','2019']:\n",
    "    \n",
    "    total_tix.append((data[x]*data.index).sum())"
   ]
  },
  {
   "cell_type": "code",
   "execution_count": 28,
   "metadata": {
    "collapsed": false
   },
   "outputs": [
    {
     "data": {
      "text/plain": [
       "([<matplotlib.axis.XTick at 0x7f52b1f0cad0>,\n",
       "  <matplotlib.axis.XTick at 0x7f52b4fc5cd0>,\n",
       "  <matplotlib.axis.XTick at 0x7f52b1f346d0>],\n",
       " <a list of 3 Text xticklabel objects>)"
      ]
     },
     "execution_count": 28,
     "metadata": {},
     "output_type": "execute_result"
    },
    {
     "data": {
      "image/png": "[encoded data removed]",
      "text/plain": [
       "<matplotlib.figure.Figure at 0x7f52b203a4d0>"
      ]
     },
     "metadata": {},
     "output_type": "display_data"
    }
   ],
   "source": [
    "plt.plot(total_tix)\n",
    "plt.scatter([0,1,2],total_tix)\n",
    "plt.suptitle('total tickets',size=14)\n",
    "plt.xticks([0,1,2],[2017,2018,2019])"
   ]
  },
  {
   "cell_type": "markdown",
   "metadata": {},
   "source": [
    "The total number of tickets appears to be increasing linearly, so a linear model seems like a decent first approximation of the process.  So we'll start with that in the model below.  \n",
    "\n",
    "### model assumptions: \n",
    "* the total number of tickets increases linearly over time.  Likely this is not true and I expect it will plateau at a given number, or even increase at greater than linear rates.  More modeling to come on this.  \n",
    "* each year, I model my number of tickets as a binomial distribution with p = 0.90, meaning  each uear I expect there'sa 90% chance I'll qualify to enter the lottery.  That is a huge assumption, essentially saying in 5 years I think I'll be healthy, fit, and have enough time to run a 100 mile race.  Oof...\n",
    "\n",
    "### the model:\n",
    "1. Normal linear regression model inferring values of the slope and intercept based on our available data.  Use that model to build a distribution of what we think the total number of tickets will look like each year into the future.  \n",
    "2. My number of tickets each year is a binomial distribution with p = 0.90 and n = year - 2019.  \n",
    "3. The output of the model is a geometric distribution showing how many draws from the lottery are necessary until my name gets picked the first time.  Since there are (currently) 45 draws for newbies, then if that number is less than 45, I expect to get picked!"
   ]
  },
  {
   "cell_type": "code",
   "execution_count": 6,
   "metadata": {
    "collapsed": false
   },
   "outputs": [
    {
     "name": "stdout",
     "output_type": "stream",
     "text": [
      "[2020 2021 2022 2023 2024 2025 2026 2027 2028 2029 2030 2031 2032 2033 2034\n",
      " 2035]\n"
     ]
    }
   ],
   "source": [
    "# years to predict\n",
    "\n",
    "ytp = np.array([3,4,5,6,7,8,9,10,11,12,13,14,15,16,17,18])\n",
    "ytp_real = 2017+ytp\n",
    "print ytp_real"
   ]
  },
  {
   "cell_type": "code",
   "execution_count": 8,
   "metadata": {
    "collapsed": false
   },
   "outputs": [],
   "source": [
    "b0 = pymc.Normal('b0',7000,0.00001) # intercept of model of total tickets in lottery\n",
    "b1 = pymc.Normal('b1',5000,0.00001) # slope of total_tickets linear model\n",
    "\n",
    "err= pymc.Uniform('err',0,500) # error on total_tickets model\n",
    "\n",
    "x=np.array([0,1,2]) \n",
    "\n",
    "# distribution of number of tickets per year with 0.9 prob of drawing 1 tix per year\n",
    "my_tickets = pymc.Binomial('num tix',p=0.9,n=np.array([ytp-1])) \n",
    "\n",
    "# the model\n",
    "@pymc.deterministic\n",
    "def total_pool_pred(b0=b0,b1=b1,x=x):\n",
    "    return b0+b1*x\n",
    "\n",
    "#estimate values of the model based on data\n",
    "total_pool = pymc.Normal('y', total_pool_pred , err, value=np.array(total_tix), observed=True)\n",
    "\n",
    "# use fitted params to estimate population size at each year\n",
    "pop_size = pymc.Normal('population',mu=b1*ytp+b0,tau=err,size=len(ytp))\n",
    "\n",
    "\n",
    "def chance_final(foonum=my_tickets,pop_size=pop_size):\n",
    "    tmp = (2**foonum)/pop_size\n",
    "    tmp[tmp>1] = 1\n",
    "    return tmp\n",
    "\n",
    "chances = pymc.Deterministic(name='chances',eval=chance_final,parents={\"foonum\":my_tickets,\"pop_size\":pop_size},doc='foo')\n",
    "                            \n",
    "# how many draws until success,                              \n",
    "final = pymc.Geometric('final_odds',p=chances)\n",
    "\n",
    "\n",
    "model = pymc.Model([total_pool_pred, b0, b1, total_pool, err, x,pop_size,chances,my_tickets,final])\n"
   ]
  },
  {
   "cell_type": "code",
   "execution_count": 9,
   "metadata": {
    "collapsed": false
   },
   "outputs": [
    {
     "name": "stderr",
     "output_type": "stream",
     "text": [
      "/home/adam/anaconda2/lib/python2.7/site-packages/pymc/StepMethods.py:782: UserWarning: DrawFromPrior jumped to forbidden value\n",
      "  warnings.warn('DrawFromPrior jumped to forbidden value')\n"
     ]
    },
    {
     "name": "stdout",
     "output_type": "stream",
     "text": [
      " [-----------------100%-----------------] 100000 of 100000 complete in 25.9 sec"
     ]
    }
   ],
   "source": [
    "mcmc = pymc.MCMC(model)\n",
    "mcmc.sample(100000, 20000)"
   ]
  },
  {
   "cell_type": "code",
   "execution_count": 30,
   "metadata": {
    "collapsed": false
   },
   "outputs": [
    {
     "data": {
      "text/plain": [
       "<matplotlib.text.Text at 0x7f52b20298d0>"
      ]
     },
     "execution_count": 30,
     "metadata": {},
     "output_type": "execute_result"
    },
    {
     "data": {
      "image/png": "[encoded data removed]",
      "text/plain": [
       "<matplotlib.figure.Figure at 0x7f52b4884f90>"
      ]
     },
     "metadata": {},
     "output_type": "display_data"
    }
   ],
   "source": [
    "fo_central = final.stats()['quantiles'][50]\n",
    "fo_ub = final.stats()['95% HPD interval'][1]\n",
    "fo_lb = final.stats()['95% HPD interval'][0]\n",
    "\n",
    "\n",
    "plt.figure(figsize=[7.5,7.5])\n",
    "plt.suptitle('number of draws needed to pull my name',size=14)\n",
    "plt.plot(fo_central,linewidth=3)\n",
    "plt.plot(fo_ub,c='grey',linewidth=2)\n",
    "plt.plot(fo_lb,c='grey',linewidth=2)\n",
    "plt.fill_between(np.arange(0,len(ytp_real+1),1),fo_ub,fo_lb,color='grey',alpha=0.25)\n",
    "plt.plot([0,15],[45,45],c='red')\n",
    "plt.xticks(np.arange(0,len(ytp_real+1),1),ytp_real,rotation=45)\n",
    "plt.ylim([0,250])\n",
    "plt.xlabel('year')\n",
    "plt.ylabel('number of draws')"
   ]
  },
  {
   "cell_type": "markdown",
   "metadata": {},
   "source": [
    "The figure above shows the mean (blue line) and 95% HPD (grey shaded area) of the distribution of number of draws necessary to pull my name each year in the HR100 lottery.  The red horizontal line is 45, which is the number of slots in the loterry for newcomers.  So in 2029 when the mean of the distribution passes below 45 on the y-axis, I have a better than 50% chance of getting in.  This is shown in the table below as well."
   ]
  },
  {
   "cell_type": "code",
   "execution_count": 37,
   "metadata": {
    "collapsed": false
   },
   "outputs": [
    {
     "data": {
      "text/html": [
       "<div>\n",
       "<table border=\"1\" class=\"dataframe\">\n",
       "  <thead>\n",
       "    <tr style=\"text-align: right;\">\n",
       "      <th></th>\n",
       "      <th>percent chance</th>\n",
       "    </tr>\n",
       "  </thead>\n",
       "  <tbody>\n",
       "    <tr>\n",
       "      <th>2020</th>\n",
       "      <td>0.80</td>\n",
       "    </tr>\n",
       "    <tr>\n",
       "      <th>2021</th>\n",
       "      <td>1.15</td>\n",
       "    </tr>\n",
       "    <tr>\n",
       "      <th>2022</th>\n",
       "      <td>1.90</td>\n",
       "    </tr>\n",
       "    <tr>\n",
       "      <th>2023</th>\n",
       "      <td>3.17</td>\n",
       "    </tr>\n",
       "    <tr>\n",
       "      <th>2024</th>\n",
       "      <td>4.97</td>\n",
       "    </tr>\n",
       "    <tr>\n",
       "      <th>2025</th>\n",
       "      <td>8.35</td>\n",
       "    </tr>\n",
       "    <tr>\n",
       "      <th>2026</th>\n",
       "      <td>13.92</td>\n",
       "    </tr>\n",
       "    <tr>\n",
       "      <th>2027</th>\n",
       "      <td>22.37</td>\n",
       "    </tr>\n",
       "    <tr>\n",
       "      <th>2028</th>\n",
       "      <td>34.68</td>\n",
       "    </tr>\n",
       "    <tr>\n",
       "      <th>2029</th>\n",
       "      <td>51.19</td>\n",
       "    </tr>\n",
       "    <tr>\n",
       "      <th>2030</th>\n",
       "      <td>67.73</td>\n",
       "    </tr>\n",
       "    <tr>\n",
       "      <th>2031</th>\n",
       "      <td>81.87</td>\n",
       "    </tr>\n",
       "    <tr>\n",
       "      <th>2032</th>\n",
       "      <td>91.12</td>\n",
       "    </tr>\n",
       "    <tr>\n",
       "      <th>2033</th>\n",
       "      <td>96.16</td>\n",
       "    </tr>\n",
       "    <tr>\n",
       "      <th>2034</th>\n",
       "      <td>98.48</td>\n",
       "    </tr>\n",
       "    <tr>\n",
       "      <th>2035</th>\n",
       "      <td>99.34</td>\n",
       "    </tr>\n",
       "  </tbody>\n",
       "</table>\n",
       "</div>"
      ],
      "text/plain": [
       "      percent chance\n",
       "2020            0.80\n",
       "2021            1.15\n",
       "2022            1.90\n",
       "2023            3.17\n",
       "2024            4.97\n",
       "2025            8.35\n",
       "2026           13.92\n",
       "2027           22.37\n",
       "2028           34.68\n",
       "2029           51.19\n",
       "2030           67.73\n",
       "2031           81.87\n",
       "2032           91.12\n",
       "2033           96.16\n",
       "2034           98.48\n",
       "2035           99.34"
      ]
     },
     "execution_count": 37,
     "metadata": {},
     "output_type": "execute_result"
    }
   ],
   "source": [
    "tmp_perc = []\n",
    "for x in xrange(len(ytp)):\n",
    "    tmp_perc.append(round(sum(np.mean(mcmc.trace('final_odds')[:],1)[:,x]<=45)/80000.0,4)*100)\n",
    "\n",
    "pd.DataFrame(index=ytp_real,data={'percent chance':tmp_perc})"
   ]
  },
  {
   "cell_type": "code",
   "execution_count": null,
   "metadata": {
    "collapsed": true
   },
   "outputs": [],
   "source": []
  }
 ],
 "metadata": {
  "kernelspec": {
   "display_name": "Python [anaconda2]",
   "language": "python",
   "name": "Python [anaconda2]"
  },
  "language_info": {
   "codemirror_mode": {
    "name": "ipython",
    "version": 2
   },
   "file_extension": ".py",
   "mimetype": "text/x-python",
   "name": "python",
   "nbconvert_exporter": "python",
   "pygments_lexer": "ipython2",
   "version": "2.7.15"
  }
 },
 "nbformat": 4,
 "nbformat_minor": 0
}
