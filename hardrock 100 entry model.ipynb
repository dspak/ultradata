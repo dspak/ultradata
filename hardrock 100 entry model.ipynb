{
 "cells": [
  {
   "cell_type": "code",
   "execution_count": 1,
   "metadata": {
    "collapsed": false
   },
   "outputs": [],
   "source": [
    "import pandas as pd\n",
    "import matplotlib.pyplot as plt\n",
    "import pymc\n",
    "import numpy as np\n",
    "from scipy import stats\n",
    "\n",
    "%matplotlib inline"
   ]
  },
  {
   "cell_type": "code",
   "execution_count": 2,
   "metadata": {
    "collapsed": false
   },
   "outputs": [],
   "source": [
    "data = pd.read_csv('./hr100_odds.csv',header=0,index_col=0)"
   ]
  },
  {
   "cell_type": "code",
   "execution_count": 3,
   "metadata": {
    "collapsed": false
   },
   "outputs": [
    {
     "data": {
      "text/html": [
       "<div>\n",
       "<table border=\"1\" class=\"dataframe\">\n",
       "  <thead>\n",
       "    <tr style=\"text-align: right;\">\n",
       "      <th></th>\n",
       "      <th>2017</th>\n",
       "      <th>2018</th>\n",
       "      <th>2019</th>\n",
       "      <th>2017_chance</th>\n",
       "      <th>2018_chance</th>\n",
       "      <th>2019_chance</th>\n",
       "    </tr>\n",
       "    <tr>\n",
       "      <th>tix</th>\n",
       "      <th></th>\n",
       "      <th></th>\n",
       "      <th></th>\n",
       "      <th></th>\n",
       "      <th></th>\n",
       "      <th></th>\n",
       "    </tr>\n",
       "  </thead>\n",
       "  <tbody>\n",
       "    <tr>\n",
       "      <th>1</th>\n",
       "      <td>736</td>\n",
       "      <td>739</td>\n",
       "      <td>778</td>\n",
       "      <td>0.6</td>\n",
       "      <td>0.4</td>\n",
       "      <td>0.3</td>\n",
       "    </tr>\n",
       "    <tr>\n",
       "      <th>2</th>\n",
       "      <td>435</td>\n",
       "      <td>526</td>\n",
       "      <td>552</td>\n",
       "      <td>1.2</td>\n",
       "      <td>0.9</td>\n",
       "      <td>0.6</td>\n",
       "    </tr>\n",
       "    <tr>\n",
       "      <th>4</th>\n",
       "      <td>252</td>\n",
       "      <td>284</td>\n",
       "      <td>340</td>\n",
       "      <td>2.4</td>\n",
       "      <td>1.7</td>\n",
       "      <td>1.1</td>\n",
       "    </tr>\n",
       "    <tr>\n",
       "      <th>8</th>\n",
       "      <td>177</td>\n",
       "      <td>201</td>\n",
       "      <td>229</td>\n",
       "      <td>4.7</td>\n",
       "      <td>3.4</td>\n",
       "      <td>2.3</td>\n",
       "    </tr>\n",
       "    <tr>\n",
       "      <th>16</th>\n",
       "      <td>73</td>\n",
       "      <td>128</td>\n",
       "      <td>155</td>\n",
       "      <td>9.2</td>\n",
       "      <td>6.7</td>\n",
       "      <td>4.5</td>\n",
       "    </tr>\n",
       "    <tr>\n",
       "      <th>32</th>\n",
       "      <td>42</td>\n",
       "      <td>64</td>\n",
       "      <td>104</td>\n",
       "      <td>17.6</td>\n",
       "      <td>13.2</td>\n",
       "      <td>8.8</td>\n",
       "    </tr>\n",
       "    <tr>\n",
       "      <th>64</th>\n",
       "      <td>10</td>\n",
       "      <td>27</td>\n",
       "      <td>45</td>\n",
       "      <td>32.2</td>\n",
       "      <td>24.4</td>\n",
       "      <td>16.8</td>\n",
       "    </tr>\n",
       "    <tr>\n",
       "      <th>128</th>\n",
       "      <td>1</td>\n",
       "      <td>6</td>\n",
       "      <td>18</td>\n",
       "      <td>54.1</td>\n",
       "      <td>42.6</td>\n",
       "      <td>30.8</td>\n",
       "    </tr>\n",
       "    <tr>\n",
       "      <th>256</th>\n",
       "      <td>0</td>\n",
       "      <td>0</td>\n",
       "      <td>1</td>\n",
       "      <td>NaN</td>\n",
       "      <td>NaN</td>\n",
       "      <td>52.3</td>\n",
       "    </tr>\n",
       "    <tr>\n",
       "      <th>512</th>\n",
       "      <td>0</td>\n",
       "      <td>0</td>\n",
       "      <td>1</td>\n",
       "      <td>NaN</td>\n",
       "      <td>NaN</td>\n",
       "      <td>77.1</td>\n",
       "    </tr>\n",
       "  </tbody>\n",
       "</table>\n",
       "</div>"
      ],
      "text/plain": [
       "     2017  2018  2019  2017_chance  2018_chance  2019_chance\n",
       "tix                                                         \n",
       "1     736   739   778          0.6          0.4          0.3\n",
       "2     435   526   552          1.2          0.9          0.6\n",
       "4     252   284   340          2.4          1.7          1.1\n",
       "8     177   201   229          4.7          3.4          2.3\n",
       "16     73   128   155          9.2          6.7          4.5\n",
       "32     42    64   104         17.6         13.2          8.8\n",
       "64     10    27    45         32.2         24.4         16.8\n",
       "128     1     6    18         54.1         42.6         30.8\n",
       "256     0     0     1          NaN          NaN         52.3\n",
       "512     0     0     1          NaN          NaN         77.1"
      ]
     },
     "execution_count": 3,
     "metadata": {},
     "output_type": "execute_result"
    }
   ],
   "source": [
    "data"
   ]
  },
  {
   "cell_type": "code",
   "execution_count": 4,
   "metadata": {
    "collapsed": false
   },
   "outputs": [],
   "source": [
    "# use the data to sum total number of tickets per lottery\n",
    "# this looks pretty linear so a linear model for now might be reasonable\n",
    "total_tix = []\n",
    "for x in ['2017','2018','2019']:\n",
    "    \n",
    "    total_tix.append((data[x]*data.index).sum())"
   ]
  },
  {
   "cell_type": "code",
   "execution_count": 5,
   "metadata": {
    "collapsed": false
   },
   "outputs": [
    {
     "data": {
      "text/plain": [
       "([<matplotlib.axis.XTick at 0x7f52b74d3a50>,\n",
       "  <matplotlib.axis.XTick at 0x7f52b75079d0>,\n",
       "  <matplotlib.axis.XTick at 0x7f52b4fa1910>],\n",
       " <a list of 3 Text xticklabel objects>)"
      ]
     },
     "execution_count": 5,
     "metadata": {},
     "output_type": "execute_result"
    },
    {
     "data": {
      "image/png": "[encoded data removed]",
      "text/plain": [
       "<matplotlib.figure.Figure at 0x7f52b7524850>"
      ]
     },
     "metadata": {},
     "output_type": "display_data"
    }
   ],
   "source": [
    "plt.plot(total_tix)\n",
    "plt.scatter([0,1,2],total_tix)\n",
    "plt.suptitle('total tickets',size=14)\n",
    "plt.xticks([0,1,2],[2017,2018,2019])"
   ]
  },
  {
   "cell_type": "code",
   "execution_count": 6,
   "metadata": {
    "collapsed": false
   },
   "outputs": [
    {
     "name": "stdout",
     "output_type": "stream",
     "text": [
      "[2020 2021 2022 2023 2024 2025 2026 2027 2028 2029 2030 2031 2032 2033 2034\n",
      " 2035]\n"
     ]
    }
   ],
   "source": [
    "# years to predict\n",
    "\n",
    "ytp = np.array([3,4,5,6,7,8,9,10,11,12,13,14,15,16,17,18])\n",
    "ytp_real = 2017+ytp\n",
    "print ytp_real"
   ]
  },
  {
   "cell_type": "code",
   "execution_count": 8,
   "metadata": {
    "collapsed": false
   },
   "outputs": [],
   "source": [
    "b0 = pymc.Normal('b0',7000,0.00001) # intercept of model of total tickets in lottery\n",
    "b1 = pymc.Normal('b1',5000,0.00001) # slope of total_tickets linear model\n",
    "\n",
    "err= pymc.Uniform('err',0,500) # error on total_tickets model\n",
    "\n",
    "x=np.array([0,1,2]) \n",
    "\n",
    "# distribution of number of tickets per year with 0.9 prob of drawing 1 tix per year\n",
    "my_tickets = pymc.Binomial('num tix',p=0.9,n=np.array([ytp-1])) \n",
    "\n",
    "# the model\n",
    "@pymc.deterministic\n",
    "def total_pool_pred(b0=b0,b1=b1,x=x):\n",
    "    return b0+b1*x\n",
    "\n",
    "#estimate values of the model based on data\n",
    "total_pool = pymc.Normal('y', total_pool_pred , err, value=np.array(total_tix), observed=True)\n",
    "\n",
    "# use fitted params to estimate population size at each year\n",
    "pop_size = pymc.Normal('population',mu=b1*ytp+b0,tau=err,size=len(ytp))\n",
    "\n",
    "\n",
    "def chance_final(foonum=my_tickets,pop_size=pop_size):\n",
    "    tmp = (2**foonum)/pop_size\n",
    "    tmp[tmp>1] = 1\n",
    "    return tmp\n",
    "\n",
    "chances = pymc.Deterministic(name='chances',eval=chance_final,parents={\"foonum\":my_tickets,\"pop_size\":pop_size},doc='foo')\n",
    "                            \n",
    "# how many draws until success,                              \n",
    "final = pymc.Geometric('final_odds',p=chances)\n",
    "\n",
    "\n",
    "model = pymc.Model([total_pool_pred, b0, b1, total_pool, err, x,pop_size,chances,my_tickets,final])\n"
   ]
  },
  {
   "cell_type": "code",
   "execution_count": 9,
   "metadata": {
    "collapsed": false
   },
   "outputs": [
    {
     "name": "stderr",
     "output_type": "stream",
     "text": [
      "/home/adam/anaconda2/lib/python2.7/site-packages/pymc/StepMethods.py:782: UserWarning: DrawFromPrior jumped to forbidden value\n",
      "  warnings.warn('DrawFromPrior jumped to forbidden value')\n"
     ]
    },
    {
     "name": "stdout",
     "output_type": "stream",
     "text": [
      " [-----------------100%-----------------] 100000 of 100000 complete in 25.9 sec"
     ]
    }
   ],
   "source": [
    "mcmc = pymc.MCMC(model)\n",
    "mcmc.sample(100000, 20000)"
   ]
  },
  {
   "cell_type": "code",
   "execution_count": 11,
   "metadata": {
    "collapsed": false
   },
   "outputs": [
    {
     "data": {
      "text/plain": [
       "(0, 250)"
      ]
     },
     "execution_count": 11,
     "metadata": {},
     "output_type": "execute_result"
    },
    {
     "data": {
      "image/png": "[encoded data removed]",
      "text/plain": [
       "<matplotlib.figure.Figure at 0x7f52b4899550>"
      ]
     },
     "metadata": {},
     "output_type": "display_data"
    }
   ],
   "source": [
    "fo_central = final.stats()['quantiles'][50]\n",
    "fo_ub = final.stats()['95% HPD interval'][1]\n",
    "fo_lb = final.stats()['95% HPD interval'][0]\n",
    "\n",
    "\n",
    "plt.figure(figsize=[7.5,7.5])\n",
    "plt.plot(fo_central,linewidth=3)\n",
    "plt.plot(fo_ub,c='grey',linewidth=2)\n",
    "plt.plot(fo_lb,c='grey',linewidth=2)\n",
    "plt.fill_between(np.arange(0,len(ytp_real+1),1),fo_ub,fo_lb,color='grey',alpha=0.25)\n",
    "plt.plot([0,15],[45,45],c='red')\n",
    "plt.xticks(np.arange(0,len(ytp_real+1),1),ytp_real,rotation=45)\n",
    "plt.ylim([0,250])"
   ]
  },
  {
   "cell_type": "code",
   "execution_count": null,
   "metadata": {
    "collapsed": false
   },
   "outputs": [],
   "source": [
    "print np.mean(mcmc.trace('b0')[:])\n",
    "print np.mean(mcmc.trace('b1')[:])\n",
    "\n",
    "plt.hist(mcmc.trace('b0')[:], bins=50)"
   ]
  },
  {
   "cell_type": "code",
   "execution_count": 19,
   "metadata": {
    "collapsed": false
   },
   "outputs": [
    {
     "name": "stdout",
     "output_type": "stream",
     "text": [
      "2020 0.00805\n",
      "2021 0.0114875\n",
      "2022 0.0190375\n",
      "2023 0.0317125\n",
      "2024 0.0496625\n",
      "2025 0.0835\n",
      "2026 0.139175\n",
      "2027 0.223675\n",
      "2028 0.3467875\n",
      "2029 0.5118875\n",
      "2030 0.6772625\n",
      "2031 0.8187\n",
      "2032 0.911175\n",
      "2033 0.9616375\n"
     ]
    }
   ],
   "source": [
    "for x in xrange(14):\n",
    "    print ytp_real[x],sum(np.mean(mcmc.trace('final_odds')[:],1)[:,x]<=45)/80000.0"
   ]
  },
  {
   "cell_type": "code",
   "execution_count": null,
   "metadata": {
    "collapsed": false
   },
   "outputs": [],
   "source": [
    "final.stats()"
   ]
  },
  {
   "cell_type": "code",
   "execution_count": 22,
   "metadata": {
    "collapsed": false
   },
   "outputs": [
    {
     "data": {
      "text/plain": [
       "(80000, 16)"
      ]
     },
     "execution_count": 22,
     "metadata": {},
     "output_type": "execute_result"
    }
   ],
   "source": []
  },
  {
   "cell_type": "code",
   "execution_count": null,
   "metadata": {
    "collapsed": true
   },
   "outputs": [],
   "source": []
  }
 ],
 "metadata": {
  "kernelspec": {
   "display_name": "Python [anaconda2]",
   "language": "python",
   "name": "Python [anaconda2]"
  },
  "language_info": {
   "codemirror_mode": {
    "name": "ipython",
    "version": 2
   },
   "file_extension": ".py",
   "mimetype": "text/x-python",
   "name": "python",
   "nbconvert_exporter": "python",
   "pygments_lexer": "ipython2",
   "version": "2.7.15"
  }
 },
 "nbformat": 4,
 "nbformat_minor": 0
}
